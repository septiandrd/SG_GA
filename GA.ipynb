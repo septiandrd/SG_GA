{
 "cells": [
  {
   "cell_type": "code",
   "execution_count": 1,
   "metadata": {
    "collapsed": true
   },
   "outputs": [],
   "source": [
    "import numpy as np"
   ]
  },
  {
   "cell_type": "code",
   "execution_count": 40,
   "metadata": {},
   "outputs": [],
   "source": [
    "def generate_populasi(size):\n",
    "    pop = []\n",
    "    for i in range(size) :\n",
    "        pop.append(np.random.randint(2,size=len(ikan)))\n",
    "    return pop\n",
    "\n",
    "def hitungFitness(kromosom) :\n",
    "    maxWeight = 12\n",
    "    weight = 0\n",
    "    value = 0\n",
    "    for i in range(len(kromosom)) :\n",
    "        if kromosom[i] == 1 :\n",
    "            weight += ikan.get(i)[1]\n",
    "            value += ikan.get(i)[2]\n",
    "    if weight <= maxWeight :\n",
    "        return value\n",
    "    else:\n",
    "        return 0"
   ]
  },
  {
   "cell_type": "code",
   "execution_count": 3,
   "metadata": {
    "collapsed": true
   },
   "outputs": [
    {
     "ename": "NameError",
     "evalue": "name 'random' is not defined",
     "output_type": "error",
     "traceback": [
      "\u001b[0;31m---------------------------------------------------------------------------\u001b[0m",
      "\u001b[0;31mNameError\u001b[0m                                 Traceback (most recent call last)",
      "\u001b[0;32m<ipython-input-3-7e7caafcf74a>\u001b[0m in \u001b[0;36m<module>\u001b[0;34m()\u001b[0m\n\u001b[1;32m     29\u001b[0m \u001b[0;34m\u001b[0m\u001b[0m\n\u001b[1;32m     30\u001b[0m             \u001b[0;31m# CROSSOVER\u001b[0m\u001b[0;34m\u001b[0m\u001b[0;34m\u001b[0m\u001b[0m\n\u001b[0;32m---> 31\u001b[0;31m             \u001b[0mrand\u001b[0m \u001b[0;34m=\u001b[0m \u001b[0mrandom\u001b[0m\u001b[0;34m.\u001b[0m\u001b[0mrandom\u001b[0m\u001b[0;34m(\u001b[0m\u001b[0;34m)\u001b[0m\u001b[0;34m\u001b[0m\u001b[0m\n\u001b[0m\u001b[1;32m     32\u001b[0m             \u001b[0;32mif\u001b[0m \u001b[0mrand\u001b[0m\u001b[0;34m<=\u001b[0m\u001b[0mpCross\u001b[0m \u001b[0;34m:\u001b[0m\u001b[0;34m\u001b[0m\u001b[0m\n\u001b[1;32m     33\u001b[0m                 \u001b[0mslicePoint\u001b[0m \u001b[0;34m=\u001b[0m \u001b[0mnp\u001b[0m\u001b[0;34m.\u001b[0m\u001b[0mrandom\u001b[0m\u001b[0;34m.\u001b[0m\u001b[0mrandint\u001b[0m\u001b[0;34m(\u001b[0m\u001b[0;36m1\u001b[0m\u001b[0;34m,\u001b[0m\u001b[0;36m4\u001b[0m\u001b[0;34m)\u001b[0m\u001b[0;34m\u001b[0m\u001b[0m\n",
      "\u001b[0;31mNameError\u001b[0m: name 'random' is not defined"
     ]
    }
   ],
   "source": [
    "if __name__ == '__main__':\n",
    "    \n",
    "    ikan = {\n",
    "        0:['nila',2,50000],\n",
    "        1:['gurame',7,70000],\n",
    "        2:['kakap',4,60000],\n",
    "        3:['lele',1,15000],\n",
    "        4:['mujair',1,25000]\n",
    "    }\n",
    "    \n",
    "    pCross = 0.9\n",
    "    pMutasi = 0.4\n",
    "    popSize = 50\n",
    "    nGen = 100\n",
    "\n",
    "    pop = generate_populasi(popSize)\n",
    "    \n",
    "    for gen in range (nGen):\n",
    "\n",
    "        newPop = []\n",
    "        fitness = []\n",
    "        \n",
    "        for j in range(int(popSize/2)):\n",
    "\n",
    "            # SELEKSI ORANG TUA\n",
    "\n",
    "            parent1 = pop[np.random.randint(popSize)]\n",
    "            parent2 = pop[np.random.randint(popSize)]\n",
    "\n",
    "            # CROSSOVER\n",
    "            rand = random.random()\n",
    "            if rand<=pCross :\n",
    "                slicePoint = np.random.randint(1,5)\n",
    "                anak1 = np.concatenate((parent1[:slicePoint],parent2[slicePoint:]))\n",
    "                anak2 = np.concatenate((parent2[:slicePoint],parent1[slicePoint:]))\n",
    "            else:\n",
    "                anak1 = parent1\n",
    "                anak2 = parent2\n",
    "\n",
    "            # MUTASI\n",
    "\n",
    "            rand = random.random()\n",
    "            if rand <= pMutasi :\n",
    "                swapPoint = np.random.randint(1,4)\n",
    "                anak1[swapPoint] = 1 - anak1[swapPoint]\n",
    "                swapPoint = np.random.randint(1,4)\n",
    "                anak2[swapPoint] = 1 - anak2[swapPoint]\n",
    "                \n",
    "            newPop.append(anak1)\n",
    "            newPop.append(anak2)\n",
    "            \n",
    "        # STEADY STATE\n",
    "        all = pop + newPop\n",
    "        for kromosom in all :\n",
    "            fitness.append(hitungFitness(kromosom))\n",
    "\n",
    "        steadyState = sorted(range(len(fitness)),key=lambda k:fitness[k], reverse = True)\n",
    "        pop = []\n",
    "        for i in range(popSize) :\n",
    "            pop.append(all[steadyState[i]])\n",
    "\n",
    "    print(\"\\nGenerasi Ke-\",gen)\n",
    "    print(\"Individu Terbaik \\t: \",pop[0])\n",
    "    print(\"Value \\t\\t: \" ,fitness[steadyState[0]])"
   ]
  },
  {
   "cell_type": "code",
   "execution_count": 38,
   "metadata": {},
   "outputs": [
    {
     "data": {
      "text/plain": [
       "0.8547154614193234"
      ]
     },
     "execution_count": 38,
     "metadata": {},
     "output_type": "execute_result"
    }
   ],
   "source": [
    "np.random.uniform()"
   ]
  },
  {
   "cell_type": "code",
   "execution_count": null,
   "metadata": {},
   "outputs": [],
   "source": []
  }
 ],
 "metadata": {
  "kernelspec": {
   "display_name": "Python 3",
   "language": "python",
   "name": "python3"
  },
  "language_info": {
   "codemirror_mode": {
    "name": "ipython",
    "version": 3
   },
   "file_extension": ".py",
   "mimetype": "text/x-python",
   "name": "python",
   "nbconvert_exporter": "python",
   "pygments_lexer": "ipython3",
   "version": "3.6.3"
  }
 },
 "nbformat": 4,
 "nbformat_minor": 1
}
